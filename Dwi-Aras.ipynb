{
 "cells": [
  {
   "cell_type": "markdown",
   "id": "2b6cecdb",
   "metadata": {},
   "source": [
    "## PENGEMBANGAN DWI ARAS "
   ]
  },
  {
   "cell_type": "markdown",
   "id": "5c750630",
   "metadata": {},
   "source": [
    "## IMPORT LIBRARY"
   ]
  },
  {
   "cell_type": "code",
   "execution_count": 1,
   "id": "2d2a627c",
   "metadata": {},
   "outputs": [],
   "source": [
    "import cv2\n",
    "import numpy as np\n",
    "from matplotlib import pyplot as plt"
   ]
  },
  {
   "cell_type": "code",
   "execution_count": 2,
   "id": "ea28e47b",
   "metadata": {},
   "outputs": [],
   "source": [
    "daun=cv2.imread(\"daun.jpg\", 0)\n",
    "tinggi, lebar = daun.shape"
   ]
  },
  {
   "cell_type": "code",
   "execution_count": 3,
   "id": "befcbefb",
   "metadata": {},
   "outputs": [],
   "source": [
    "cv2.imshow(\"gambar asli\", daun)\n",
    "cv2.waitKey()\n",
    "cv2.destroyAllWindows()"
   ]
  },
  {
   "cell_type": "markdown",
   "id": "cc635724",
   "metadata": {},
   "source": [
    "## PENGEMBANGAN DWI ARAS DENGAN PERKIRAAN NILAI AMBANG"
   ]
  },
  {
   "cell_type": "code",
   "execution_count": 4,
   "id": "f0a6eb71",
   "metadata": {},
   "outputs": [],
   "source": [
    "nilai_ambang = 128\n",
    "daun_hasil = daun.copy()\n",
    "for x in range (tinggi) :\n",
    "    for y in range(lebar):\n",
    "        if daun[x,y] < nilai_ambang :\n",
    "            daun_hasil [x,y] = 0\n",
    "        else :\n",
    "            daun_hasil[x,y] = 255"
   ]
  },
  {
   "cell_type": "code",
   "execution_count": 5,
   "id": "11a4e1ef",
   "metadata": {},
   "outputs": [],
   "source": [
    "cv2.imshow(\"gambar daun_hasil\", daun_hasil)\n",
    "cv2.waitKey()\n",
    "cv2.destroyAllWindows()"
   ]
  },
  {
   "cell_type": "markdown",
   "id": "3986902d",
   "metadata": {},
   "source": [
    "## NILAI AMBANG SUATU GAMBAR"
   ]
  },
  {
   "cell_type": "code",
   "execution_count": 6,
   "id": "39a32512",
   "metadata": {},
   "outputs": [],
   "source": [
    "def titeratif(image) :\n",
    "    tinggi, lebar = image.shape\n",
    "    t0 = 127\n",
    "    while(True) :\n",
    "        rata_kiri = 0;\n",
    "        rata_kanan = 0;\n",
    "        jum_kiri = 0;\n",
    "        jum_kanan = 0;\n",
    "        for x in range(tinggi) :\n",
    "            for y in range(lebar) :\n",
    "                if (image[x,y] <= 127):\n",
    "                    rata_kiri = rata_kiri + image[x,y]\n",
    "                    jum_kiri = jum_kiri + 1\n",
    "                else :\n",
    "                    rata_kanan = rata_kanan + image[x,y]\n",
    "                    jum_kanan = jum_kanan + 1\n",
    "        rata_kiri = rata_kiri / jum_kiri\n",
    "        rata_kanan = rata_kanan / jum_kanan\n",
    "        t1=(rata_kiri + rata_kanan) / 2\n",
    "        if ((t0-t1) < 1) :\n",
    "            break\n",
    "        t0 = t1\n",
    "    return round (t1)"
   ]
  },
  {
   "cell_type": "code",
   "execution_count": 7,
   "id": "77b1739a",
   "metadata": {},
   "outputs": [
    {
     "data": {
      "text/plain": [
       "131"
      ]
     },
     "execution_count": 7,
     "metadata": {},
     "output_type": "execute_result"
    }
   ],
   "source": [
    "titeratif(daun)"
   ]
  },
  {
   "cell_type": "code",
   "execution_count": null,
   "id": "be736624",
   "metadata": {},
   "outputs": [],
   "source": []
  }
 ],
 "metadata": {
  "kernelspec": {
   "display_name": "Python 3 (ipykernel)",
   "language": "python",
   "name": "python3"
  },
  "language_info": {
   "codemirror_mode": {
    "name": "ipython",
    "version": 3
   },
   "file_extension": ".py",
   "mimetype": "text/x-python",
   "name": "python",
   "nbconvert_exporter": "python",
   "pygments_lexer": "ipython3",
   "version": "3.9.13"
  }
 },
 "nbformat": 4,
 "nbformat_minor": 5
}
